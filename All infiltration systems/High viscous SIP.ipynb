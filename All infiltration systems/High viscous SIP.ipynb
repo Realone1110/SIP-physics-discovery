{
 "cells": [
  {
   "cell_type": "code",
   "execution_count": 1,
   "id": "8665fcd7-1d0f-4bc4-8f95-103875e1404e",
   "metadata": {},
   "outputs": [
    {
     "data": {
      "text/plain": [
       "['Hudson_bay_data',\n",
       " 'calculate_noise_statistics',\n",
       " 'defvjp',\n",
       " 'estimate_noise_statistics',\n",
       " 'expand_2D_array',\n",
       " 'gaussian_process_interpolation',\n",
       " 'generate_samples',\n",
       " 'grad_safe_sqrt',\n",
       " 'load_csv_to_array',\n",
       " 'mean_squared_error',\n",
       " 'odeint',\n",
       " 'plot_kde_matrix',\n",
       " 'plot_paths',\n",
       " 'primitive',\n",
       " 'safe_sqrt',\n",
       " 'safe_std',\n",
       " 'save_array_to_csv',\n",
       " 'set_publcn_matplotlib_defaults']"
      ]
     },
     "execution_count": 1,
     "metadata": {},
     "output_type": "execute_result"
    }
   ],
   "source": [
    "import sys\n",
    "import os\n",
    "import inspect\n",
    "\n",
    "# Assuming your scripts directory is one level up from the notebooks directory\n",
    "sys.path.append(os.path.abspath(\"../Scripts\"))\n",
    "# sys.path.append(os.path.abspath(\"../Scripts/sunode-master\"))\n",
    "\n",
    "\n",
    "import importlib\n",
    "import my_functions as mf\n",
    "import numpy as np\n",
    "import matplotlib.pyplot as plt\n",
    "from itertools import product\n",
    "from scipy.stats import gaussian_kde\n",
    "import autograd.numpy as anp \n",
    "import sampyl as smp\n",
    "from scipy.integrate import odeint\n",
    "import pandas as pd\n",
    "# import sunode.wrappers.as_pytensor as sun\n",
    "from my_functions import *\n",
    "from scipy.integrate import solve_ivp\n",
    "import pysindy as ps\n",
    "\n",
    "importlib.reload(mf)\n",
    "functions_list = inspect.getmembers(mf, inspect.isfunction)\n",
    "# Print the names of the functions\n",
    "Fnc_nms = [function[0] for function in functions_list]\n",
    "Fnc_nms"
   ]
  },
  {
   "cell_type": "code",
   "execution_count": 4,
   "id": "efc972ff-2053-4d84-a7c4-898cbeaf3b8a",
   "metadata": {},
   "outputs": [],
   "source": [
    "mf.set_publcn_matplotlib_defaults()"
   ]
  }
 ],
 "metadata": {
  "kernelspec": {
   "display_name": "Python (pd_env)",
   "language": "python",
   "name": "pd_env"
  },
  "language_info": {
   "codemirror_mode": {
    "name": "ipython",
    "version": 3
   },
   "file_extension": ".py",
   "mimetype": "text/x-python",
   "name": "python",
   "nbconvert_exporter": "python",
   "pygments_lexer": "ipython3",
   "version": "3.8.20"
  }
 },
 "nbformat": 4,
 "nbformat_minor": 5
}
