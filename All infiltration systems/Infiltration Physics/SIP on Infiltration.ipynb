{
 "cells": [
  {
   "cell_type": "code",
   "execution_count": 1,
   "id": "f15b93a6",
   "metadata": {},
   "outputs": [],
   "source": [
    "import warnings\n",
    "from collections import OrderedDict\n",
    "import pandas as pd\n",
    "\n",
    "import scipy\n",
    "import numpy as np\n",
    "from scipy.integrate import solve_ivp\n",
    "from sklearn.utils import resample\n",
    "import pysindy as ps\n",
    "from tqdm import tqdm\n",
    "import matplotlib.pyplot as plt\n",
    "import numpy as np\n",
    "from sklearn.neighbors import KernelDensity\n",
    "from sklearn.metrics import mean_squared_error\n",
    "from scipy.integrate import odeint\n",
    "from scipy.stats import multivariate_normal\n",
    "import seaborn as sns"
   ]
  },
  {
   "cell_type": "code",
   "execution_count": 2,
   "id": "d67586cb",
   "metadata": {},
   "outputs": [],
   "source": [
    "from sklearn.linear_model import LinearRegression\n",
    "\n",
    "\n",
    "class My_STLSQ:\n",
    "    def __init__(self, threshold=0.05, fit_intcpt = True):\n",
    "        self.threshold = threshold\n",
    "        self.fit_intcpt = fit_intcpt  \n",
    "                \n",
    "\n",
    "    def fit(self, True_X, y):\n",
    "        \"\"\"\n",
    "        Perform least squares regression with LASSO regularization\n",
    "        Parameters:\n",
    "        -----------\n",
    "        True_X : numpy array\n",
    "            Feature matrix of shape (n_samples, n_features)\n",
    "        y : numpy array\n",
    "            Response vector of shape (n_samples,)\n",
    "        self.threshold : float\n",
    "            LASSO regularization parameter\n",
    "\n",
    "        Returns:\n",
    "        --------\n",
    "        coef : numpy array\n",
    "            Coefficient vector of the final model\n",
    "        \"\"\"\n",
    "\n",
    "        if self.fit_intcpt:\n",
    "            # Add a bias term to the input data\n",
    "            X_ = np.insert(True_X, 0, 1, axis=1)\n",
    "        else: X_ = np.copy(True_X)\n",
    "\n",
    "        if len(y.shape) == 1:\n",
    "            y = y.reshape(-1,1)\n",
    "            \n",
    "        n_features = X_.shape[1]\n",
    "        self.Coeffs = []\n",
    "        for i in range(y.shape[-1]):\n",
    "#             print(i)\n",
    "            X = np.copy(X_)\n",
    "            y_i = y[:,i] #.reshape(-1)\n",
    "#             print(y_i.shape)\n",
    "            model = LinearRegression()\n",
    "            coef = np.zeros(n_features)\n",
    "            while True:\n",
    "                model.fit(X, y_i)\n",
    "                coef_new = model.coef_\n",
    "                if np.max(np.abs(coef_new - coef)) < 1e-5:\n",
    "                    break\n",
    "                coef = coef_new\n",
    "                small_coef = np.abs(coef) < self.threshold\n",
    "                if np.sum(small_coef) == 0:\n",
    "                    break\n",
    "                X = X[:, ~small_coef]\n",
    "                coef = coef[~small_coef]\n",
    "            indx = find_indexes(X_[0],X[0])\n",
    "            coefficient = np.zeros(n_features)\n",
    "            coefficient[indx] = coef\n",
    "            self.Coeffs.append(coefficient)\n",
    "        return np.array(self.Coeffs)\n",
    "\n",
    "    def predict(self, X):\n",
    "        if self.fit_intcpt:\n",
    "            # Add a bias term to the input data\n",
    "            X = np.insert(X, 0, 1, axis=1)\n",
    "        beta = np.array(self.Coeffs)\n",
    "        \n",
    "        if len(beta.shape) == 1:\n",
    "            beta = beta.reshape(-1,1)\n",
    "            \n",
    "        Y_pred = np.dot(X,beta.T)\n",
    "        return np.array(Y_pred)\n",
    "\n",
    "    \n",
    "    \n",
    "class SequentialThresholdLeastSquares:\n",
    "    def __init__(self, threshold=0.05, fit_intcpt = True):\n",
    "        self.threshold = threshold*10\n",
    "        self.fit_intcpt = fit_intcpt  \n",
    "                \n",
    "    \n",
    "    def fit(self, X, y, ):        \n",
    "        if self.fit_intcpt:\n",
    "            # Add a bias term to the input data\n",
    "            X = np.insert(X, 0, 1, axis=1) \n",
    "        if len(y.shape) == 1:\n",
    "            y = y.reshape(-1,1)\n",
    "        \n",
    "        self.Beta = [] #np.zeroes(y.shape[-1],X.shape[-1])\n",
    "        for t in range(y.shape[-1]):\n",
    "            yt = y[:,t]\n",
    "            # Initialize the parameter vector\n",
    "            self.beta = np.zeros(X.shape[1])\n",
    "\n",
    "            # Compute the initial residual and RSS\n",
    "            r = yt - np.dot(X, self.beta)\n",
    "            RSS = np.sum(r**2)\n",
    "\n",
    "            # Iterate until convergence\n",
    "            while True:\n",
    "                # Compute the correlation coefficients\n",
    "                corr = np.abs(np.dot(X.T, r))\n",
    "\n",
    "                # Find the feature with the highest correlation\n",
    "                j_star = np.argmax(corr)\n",
    "\n",
    "                # Check if the highest correlation is above the threshold\n",
    "                if corr[j_star] > self.threshold:\n",
    "                    # Compute the new parameter estimate for feature j_star\n",
    "                    beta_j_star = np.dot(X[:,j_star], r) / np.dot(X[:,j_star], X[:,j_star])\n",
    "\n",
    "                    # Update the parameter vector and residual\n",
    "                    self.beta[j_star] += beta_j_star\n",
    "                    r -= beta_j_star * X[:,j_star]\n",
    "                    RSS = np.sum(r**2)\n",
    "                else:\n",
    "                    break\n",
    "            self.Beta.append(self.beta)\n",
    "        return np.array(self.Beta)\n",
    "    \n",
    "    def predict(self, X):\n",
    "        if self.fit_intcpt:\n",
    "            # Add a bias term to the input data\n",
    "            X = np.insert(X, 0, 1, axis=1)\n",
    "        beta = np.array(self.Beta)\n",
    "        \n",
    "        if len(beta.shape) == 1:\n",
    "            beta = beta.reshape(-1,1)\n",
    "            \n",
    "        Y_pred = np.dot(X,beta.T)\n",
    "        return np.array(Y_pred)\n",
    "\n",
    "def LR(X, y, alpha, n_features):\n",
    "    model = LinearRegression()\n",
    "    coef = np.zeros(n_features)\n",
    "    while True:\n",
    "        model.fit(X, y)\n",
    "        coef_new = model.coef_\n",
    "        if np.max(np.abs(coef_new - coef)) < 1e-5:\n",
    "            break\n",
    "        coef = coef_new\n",
    "        small_coef = np.abs(coef) < alpha\n",
    "        if np.sum(small_coef) == 0:\n",
    "            break\n",
    "        X = X[:, ~small_coef]\n",
    "        coef = coef[~small_coef]\n",
    "    return X,coef\n",
    "\n",
    "\n",
    "def find_indexes(array, elements):\n",
    "    if type(array) != list:\n",
    "        array = array.tolist()\n",
    "        \n",
    "    elements = np.array(elements)\n",
    "    indexes = []\n",
    "    for element in elements:\n",
    "        try:\n",
    "            index = array.index(element)\n",
    "            indexes.append(index)\n",
    "        except ValueError:\n",
    "            indexes.append(None)\n",
    "    return indexes"
   ]
  },
  {
   "cell_type": "markdown",
   "id": "f7fb27e1",
   "metadata": {},
   "source": [
    "### Some Helper Functions"
   ]
  },
  {
   "cell_type": "code",
   "execution_count": 3,
   "id": "30abb9e0",
   "metadata": {},
   "outputs": [],
   "source": [
    "def plot_multivariate_normal(data, xlabel='x', ylabel='y', title='Multivariate Normal Distribution'):\n",
    "    # Compute the mean and covariance of the data\n",
    "    mean = np.mean(data, axis=0)\n",
    "    cov = np.cov(data.T)\n",
    "\n",
    "    # Create a grid of points for the x and y axes\n",
    "    x, y = np.mgrid[mean[0]-3*np.sqrt(cov[0,0]):mean[0]+3*np.sqrt(cov[0,0]):100j,\n",
    "                    mean[1]-3*np.sqrt(cov[1,1]):mean[1]+3*np.sqrt(cov[1,1]):100j]\n",
    "\n",
    "    # Create a multivariate normal distribution using the mean and covariance\n",
    "    mvn = multivariate_normal(mean=mean, cov=cov)\n",
    "\n",
    "    # Evaluate the PDF of the multivariate normal distribution at each point on the grid\n",
    "    pos = np.empty(x.shape + (2,))\n",
    "    pos[:, :, 0] = x\n",
    "    pos[:, :, 1] = y\n",
    "    pdf = mvn.pdf(pos)\n",
    "    \n",
    "    # Set the plot title and axis labels\n",
    "    fig, ax = plt.subplots(figsize=(4, 3))\n",
    "    ax.set_title(title)\n",
    "    ax.set_xlabel(xlabel)\n",
    "    ax.set_ylabel(ylabel)\n",
    "\n",
    "    # Plot the multivariate normal distribution as a contour plot\n",
    "    ax.contourf(x, y, pdf)\n",
    "    # Show the plot\n",
    "    plt.show()\n",
    "\n",
    "def SINDY(noisy_data,t, threshold = 0.03, wl = 15, condit = False):\n",
    "    \"\"\"Fits SINDy model to a data and returns the resulting coefficients\"\"\"\n",
    "    Poly_lib = ps.PolynomialLibrary(degree=2, include_interaction=True, include_bias=True)\n",
    "    optimizer = ps.STLSQ(threshold)#threshold = 0.3)\n",
    "    smoothed_fd = ps.SmoothedFiniteDifference(order=2, smoother_kws={'window_length': wl})\n",
    "    dldt = smoothed_fd(noisy_data,t)\n",
    "    L_dl = np.vstack((noisy_data,dldt)).T\n",
    "\n",
    "    model = ps.SINDy(\n",
    "        differentiation_method=smoothed_fd,\n",
    "        feature_library=Poly_lib,\n",
    "        optimizer=optimizer,\n",
    "        feature_names=[\"L\", \"dL\"] \n",
    "    )\n",
    "    if condit: \n",
    "        model.fit(L_dl, t)\n",
    "        model.print()\n",
    "        model.get_feature_names()\n",
    "        return model.coefficients()#.reshape(-1)\n",
    "    \n",
    "    else:\n",
    "        model.fit(L_dl, t)\n",
    "        return L_dl, model\n",
    "        \n",
    "\n",
    "def sort_matrix(matrix, col_idx = -1):\n",
    "    \"\"\"Sorts a matrix by a predifine column in ascending order\"\"\"\n",
    "    if len(matrix.shape)  == 1:\n",
    "        matrix= matrix.reshape(-1,1)\n",
    "    # Sort the matrix by the specified column\n",
    "    sorted_matrix = sorted(matrix, key=lambda x: x[col_idx])\n",
    "    return np.array(sorted_matrix)\n",
    "\n",
    "\n",
    "def split_matrix(matrix):\n",
    "    \"\"\"Splits the last column of a matrix from the original matrix and returns the new matrix and the column\"\"\"\n",
    "    matrix = matrix.tolist()\n",
    "    # Split the last column from the matrix\n",
    "    last_column = [row.pop() for row in matrix]\n",
    "    return np.array(matrix),np.array(last_column)\n",
    "\n",
    "def min_idx(arr1,arr2):\n",
    "    \"\"\"Finds the minimum of arr2 and return the corresponding arr1 values with it \"\"\"\n",
    "#     arr2 = arr2.tolist()\n",
    "    min_value = min(arr2)\n",
    "    min_index = arr2.index(min_value)\n",
    "    return ([arr1[min_index],min_value])"
   ]
  },
  {
   "cell_type": "code",
   "execution_count": 4,
   "id": "7d829918",
   "metadata": {},
   "outputs": [],
   "source": [
    "def differentiate(data,time, wl = 9):\n",
    "    smoothed_fd = ps.SmoothedFiniteDifference(order=2, smoother_kws={'window_length': wl})\n",
    "    dldt = smoothed_fd(data,time)\n",
    "    d2ldt = smoothed_fd(dldt, time)\n",
    "    d3ldt = smoothed_fd(d2ldt, time)\n",
    "    return dldt,d2ldt,d3ldt    "
   ]
  },
  {
   "cell_type": "markdown",
   "id": "99252790",
   "metadata": {},
   "source": [
    "### Load the Dataset"
   ]
  },
  {
   "cell_type": "code",
   "execution_count": 5,
   "id": "8c1b4d86",
   "metadata": {},
   "outputs": [],
   "source": [
    "inf_data = pd.read_csv(\"Infiltration.csv\")\n",
    "\n",
    "obs_time = np.asarray(inf_data[\"Time (s)\"])\n",
    "obs_height = np.asarray(inf_data[\"Height (mm)\"])/1000\n",
    "\n",
    "t = np.copy(obs_time)\n",
    "x = np.copy(obs_height)\n",
    "\n",
    "a,b = x[0],x[1]\n",
    "a,b = b,a\n",
    "x[0],x[1] = a,b\n",
    "# plt.plot(x)\n",
    "# plt.plot(obs_height)\n",
    "# x"
   ]
  },
  {
   "cell_type": "markdown",
   "id": "39e22f13",
   "metadata": {},
   "source": [
    "# Learning the best parameters by plotting a pareto curve"
   ]
  },
  {
   "cell_type": "raw",
   "id": "9682ac97",
   "metadata": {
    "collapsed": true,
    "jupyter": {
     "outputs_hidden": true
    }
   },
   "source": [
    "val_range = np.arange(0.4,1.05,0.1)\n",
    "R__ =[]\n",
    "indx = []\n",
    "for i in range(len(val_range)):\n",
    "    thresh = val_range[i]\n",
    "    val_wl = np.arange(5,37,2)\n",
    "    RMSE_wl =[]\n",
    "    ind_tmp = []\n",
    "    for i in tqdm(range(len(val_wl))):\n",
    "        wl = val_wl[i]\n",
    "        try:\n",
    "            train, prior_mean = SINDY(x,t,thresh,wl)\n",
    "            predict = prior_mean.simulate(train[0],t)\n",
    "            RMSE = mean_squared_error(train[:,1],predict[:,1], squared = False)\n",
    "            RMSE_wl.append(RMSE)\n",
    "            ind_tmp.append(val_wl[i])\n",
    "        except: # ValueError:\n",
    "            continue\n",
    "    mv = (min_idx(ind_tmp,RMSE_wl))\n",
    "    mv.append(thresh.round(3))\n",
    "    R__.append(mv)\n",
    "    print(f\"At Threshold value = {thresh.round(3)}\")\n",
    "    print(f\"The best window length and mse value is : {min_idx(ind_tmp,RMSE_wl)}\")\n",
    "    plt.plot(ind_tmp, RMSE_wl,'r-.')\n",
    "    plt.show()"
   ]
  },
  {
   "cell_type": "markdown",
   "id": "104a522b",
   "metadata": {},
   "source": [
    "### Bootstrapping the Data"
   ]
  },
  {
   "cell_type": "code",
   "execution_count": 6,
   "id": "819faefd",
   "metadata": {},
   "outputs": [
    {
     "data": {
      "text/plain": [
       "array([0.00131914, 0.02474585])"
      ]
     },
     "execution_count": 6,
     "metadata": {},
     "output_type": "execute_result"
    }
   ],
   "source": [
    "thresh,wl = 0.4,29\n",
    "smoothed_fd = ps.SmoothedFiniteDifference(order=2, smoother_kws={'window_length': wl})\n",
    "dldt = smoothed_fd(x,t)\n",
    "intial_vals = np.array([x[0],dldt[0]]) \n",
    "intial_vals"
   ]
  },
  {
   "cell_type": "code",
   "execution_count": 7,
   "id": "c78ed413",
   "metadata": {},
   "outputs": [
    {
     "name": "stdout",
     "output_type": "stream",
     "text": [
      "(L)' = 1.000 dL\n",
      "(dL)' = -3.455 L + 154.509 dL + -10659.940 L dL + -578.295 dL^2\n",
      "Recovered Parameter Values = \n",
      " [-3.45534029e+00  1.54509129e+02 -1.06599397e+04 -5.78295008e+02]\n",
      "RMSE = 0.010382735219709812\n"
     ]
    },
    {
     "data": {
      "image/png": "[encoded data removed]",
      "text/plain": [
       "<Figure size 640x480 with 1 Axes>"
      ]
     },
     "metadata": {},
     "output_type": "display_data"
    }
   ],
   "source": [
    "train, model = SINDY(x,t,thresh,wl)\n",
    "model.print()\n",
    "x_hat = model.simulate(train[0],t)#[:,0]\n",
    "focus_idx = np.array([1,2,4,5])\n",
    "\n",
    "plt.plot(t,train[:,1])\n",
    "plt.plot(t,x_hat[:,1], '-.')\n",
    "\n",
    "plt.xlabel('Time(s)')\n",
    "plt.ylabel('Height(mm)')\n",
    "plt.plot()\n",
    "params = model.coefficients()[-1]\n",
    "print(f\"Recovered Parameter Values = \\n {params[focus_idx]}\")\n",
    "print(f\"RMSE = {mean_squared_error(train[:,1], x_hat[:,1], squared = False)}\")"
   ]
  },
  {
   "cell_type": "code",
   "execution_count": 8,
   "id": "ef478685",
   "metadata": {},
   "outputs": [
    {
     "data": {
      "text/plain": [
       "201"
      ]
     },
     "execution_count": 8,
     "metadata": {},
     "output_type": "execute_result"
    }
   ],
   "source": [
    "import numpy as np\n",
    "\n",
    "def sample_and_extrapolate(array, time_array, num_samples):\n",
    "    # Remove first and last row of the array and the corresponding time\n",
    "    f_arr,l_arr = array[0],array[-1]\n",
    "    f_time,l_time = time_array[0], time_array[-1]\n",
    "    \n",
    "    array_,time_array_ = np.copy(array),np.copy(time_array)\n",
    "    \n",
    "    array = array[1:-1]\n",
    "    time_array = time_array[1:-1]\n",
    "    \n",
    "    # Randomly sample from the remaining array based on num_samples\n",
    "    sampled_indices = sort_matrix(np.random.choice(len(array), size=num_samples, replace=False)).reshape(-1)\n",
    "    sampled_array = array[sampled_indices]\n",
    "    sampled_time = time_array[sampled_indices]\n",
    "    \n",
    "    # Add previously removed first and last row back to the array\n",
    "    sampled_array = np.concatenate(([f_arr], sampled_array, [l_arr]))\n",
    "    sampled_time = np.concatenate(([f_time], sampled_time, [l_time]))\n",
    "    \n",
    "    \n",
    "    # Extrapolate for all time in the time array\n",
    "    interpolated_array = np.interp(time_array_, sampled_time , sampled_array)\n",
    "\n",
    "    return interpolated_array\n",
    "x_xtrap = sample_and_extrapolate(x,t,int(0.5*len(x)))\n",
    "len(x_xtrap)"
   ]
  },
  {
   "cell_type": "raw",
   "id": "930c2b48",
   "metadata": {},
   "source": [
    "#Extrapolating With SINDy Learning\n",
    "\n",
    "import tsmoothie\n",
    "# Bootstrap the data points\n",
    "Lt_data = np.vstack((x,t)).T\n",
    "n_bootstraps = 3000\n",
    "bootstrap_params = np.zeros((n_bootstraps, len(params)))\n",
    "bootstrap_set = []\n",
    "\n",
    "for i in tqdm(range(n_bootstraps)):\n",
    "    bootstrap_data = sort_matrix(resample(Lt_data, replace=False, n_samples=int(0.90*len(Lt_data))))\n",
    "    bsp_data,tym = split_matrix(bootstrap_data)\n",
    "    bsp_data = bsp_data.reshape(-1)\n",
    "    bootstrap_set.append(bsp_data)\n",
    "    \n",
    "    #Fitting Sindy to Original data for Priors\n",
    "    tmp, sindy = SINDY(bsp_data,tym,thresh,wl)\n",
    "    sindy_params =  sindy.coefficients()[-1]\n",
    "    bootstrap_params[i,:] = sindy_params\n",
    "    \n",
    "bootstrap_set = np.array(bootstrap_set)"
   ]
  },
  {
   "cell_type": "code",
   "execution_count": 9,
   "id": "2c57b401",
   "metadata": {},
   "outputs": [
    {
     "name": "stderr",
     "output_type": "stream",
     "text": [
      "100%|█████████████████████████████████████████████████████████████████████████████| 3000/3000 [00:19<00:00, 151.74it/s]\n"
     ]
    }
   ],
   "source": [
    "# Bootstrap the data points\n",
    "Lt_data = np.vstack((x,t)).T\n",
    "n_bootstraps = 3000\n",
    "bootstrap_params = np.zeros((n_bootstraps, len(params)))\n",
    "bootstrap_set = []\n",
    "Differential_set = []\n",
    "\n",
    "for i in tqdm(range(n_bootstraps)):\n",
    "    #bootstrap data\n",
    "    bootstrap_data = sample_and_extrapolate(x,t,int(0.6*len(x)))\n",
    "    \n",
    "    #differentiate the data to get dl/dt\n",
    "    diff_data = smoothed_fd(bootstrap_data,t)\n",
    "    \n",
    "    #append bootstrap data and their differentiation into a matrix\n",
    "    bootstrap_set.append(bootstrap_data)\n",
    "    Differential_set.append(diff_data)\n",
    "    \n",
    "    #Fit Sindy to bootstrapped data for prior paramaters\n",
    "    tmp, sindy = SINDY(bootstrap_data,t,thresh,wl)\n",
    "    sindy_params =  sindy.coefficients()[-1]\n",
    "    \n",
    "    #append the params to parameter list\n",
    "    bootstrap_params[i,:] = sindy_params\n",
    "    \n",
    "#Convert list to array    \n",
    "bootstrap_set = np.array(bootstrap_set)\n",
    "Differential_set = np.array(Differential_set)"
   ]
  },
  {
   "cell_type": "code",
   "execution_count": 10,
   "id": "fd540dd6",
   "metadata": {},
   "outputs": [
    {
     "data": {
      "image/png": "[encoded data removed]",
      "text/plain": [
       "<Figure size 640x480 with 1 Axes>"
      ]
     },
     "metadata": {},
     "output_type": "display_data"
    },
    {
     "data": {
      "image/png": "[encoded data removed]",
      "text/plain": [
       "<Figure size 640x480 with 1 Axes>"
      ]
     },
     "metadata": {},
     "output_type": "display_data"
    }
   ],
   "source": [
    "# Plot distribution for bootstrap data\n",
    "for i in range(len(bootstrap_set)):\n",
    "    plt.plot(t, bootstrap_set[i])\n",
    "plt.fill_between(t, bootstrap_set.min(0), bootstrap_set.max(0), alpha=0.7, color='orange')   \n",
    "plt.show()\n",
    "\n",
    "# Plot distribution for differentiated bootstrap data\n",
    "for i in range(len(Differential_set)):\n",
    "    plt.plot(t, Differential_set[i])\n",
    "plt.fill_between(t, Differential_set.min(0), Differential_set.max(0), alpha=0.7, color='orange')   \n",
    "plt.show()\n",
    "\n"
   ]
  },
  {
   "cell_type": "code",
   "execution_count": 11,
   "id": "878bafdf",
   "metadata": {
    "scrolled": true
   },
   "outputs": [
    {
     "name": "stdout",
     "output_type": "stream",
     "text": [
      "mean of the parameters =  [ 2.99022385e-03  1.74655260e+01  1.23664240e+02  1.64446311e+01\n",
      " -9.62650725e+03 -4.17781386e+02]\n",
      "All data mean =  [ 0.00000000e+00 -3.45534029e+00  1.54509129e+02  0.00000000e+00\n",
      " -1.06599397e+04 -5.78295008e+02]\n",
      "mode of the parameters =  [[     0.          -1317.52357133      0.              0.\n",
      "  -11161.79269914      0.        ]]\n"
     ]
    }
   ],
   "source": [
    "#Print Values from of parameters \n",
    "print(\"mean of the parameters = \", np.mean(bootstrap_params,0)) #mean of Sindy learned bootstraped data parameters\n",
    "print(\"All data mean = \", params) # Recovered parameter using all data\n",
    "print(\"mode of the parameters = \", scipy.stats.mode(bootstrap_params,axis=0).mode) #mode of bootstrap parameters"
   ]
  },
  {
   "cell_type": "markdown",
   "id": "21f52b07",
   "metadata": {},
   "source": [
    "# Stochastic Inverse Problem Analysis"
   ]
  },
  {
   "cell_type": "markdown",
   "id": "a995e801",
   "metadata": {},
   "source": [
    "### Helper functions for the Stochastic Inverse Problem"
   ]
  },
  {
   "cell_type": "code",
   "execution_count": 12,
   "id": "8b0f15c1",
   "metadata": {},
   "outputs": [],
   "source": [
    "# Recovered Model for d2l/dt2 from SINDy\n",
    "def inf_func(y0,t, params):\n",
    "    L,dL = y0\n",
    "    L_dot = 1.0 * dL\n",
    "    dL_dot = params[0]*1 + params[1]*L + params[2]*dL + params[3]*L**2 + params[4]*L*dL + params[5]*dL**2\n",
    "    return [L_dot,dL_dot] \n",
    "\n",
    "# Integrating Function calling the model\n",
    "def intgrt(params, y0 = intial_vals):\n",
    "    t_up = obs_time[-1]\n",
    "    t_eval = np.linspace(0,t_up,len(obs_time))    \n",
    "    integral = odeint(inf_func, y0=y0, t=t_eval, args = (params,))\n",
    "    return integral"
   ]
  },
  {
   "cell_type": "code",
   "execution_count": 13,
   "id": "508b5268",
   "metadata": {},
   "outputs": [],
   "source": [
    "def Prior(mean = params, std=np.ones(len(params))*1): #std_feat\n",
    "    \"\"\"Generates a single sample from the prior distribution with the specified mean and covariance matrix\"\"\"\n",
    "    \n",
    "    sz = len(mean)\n",
    "    if sz > 4:\n",
    "        cov = np.diag(std,0)\n",
    "    else:\n",
    "        cov = np.diag(np.ones(len(mean))*1,0)\n",
    "    params = np.random.multivariate_normal(mean, cov, size = 1)\n",
    "    return params.reshape(-1)\n",
    "\n",
    "\n",
    "def Generate_priors(n_samples=10000, mean = params, std = np.ones(len(params))*1):\n",
    "    \"\"\"Function for Generating multiple samples from the prior\n",
    "    it samples from n_samples times from the given prior distribution above and then add random samples from the \n",
    "    bootstrapped parameter samples\"\"\"\n",
    "    \n",
    "    prior_params = []\n",
    "    for i in tqdm(range(n_samples)):\n",
    "        prior_params.append(Prior(mean,std ))\n",
    "    prior_params = np.array(prior_params)\n",
    "#     prior_params = np.vstack((prior_params,featuring_params))\n",
    "    prior_params = prior_params[np.random.permutation(prior_params.shape[0])]\n",
    "    return prior_params\n",
    "\n",
    "\n",
    "def Q(params, F=True):\n",
    "    \"\"\"Function for Generating Model Output\"\"\"\n",
    "    sz = len(params)\n",
    "    QoI = intgrt(params)[:,1]\n",
    "    if F:\n",
    "        return QoI.flatten()  \n",
    "    else:\n",
    "        return QoI"
   ]
  },
  {
   "cell_type": "markdown",
   "id": "967b257b",
   "metadata": {},
   "source": [
    "### Kernel Density Estimator For the Observed Data Density"
   ]
  },
  {
   "cell_type": "code",
   "execution_count": 14,
   "id": "cd9e45dc",
   "metadata": {},
   "outputs": [
    {
     "name": "stderr",
     "output_type": "stream",
     "text": [
      "100%|█████████████████████████████████████████████████████████████████████████████| 3000/3000 [00:05<00:00, 577.36it/s]\n"
     ]
    }
   ],
   "source": [
    "# Kernel Density estimates from bootsrapped data\n",
    "train = dldt\n",
    "KDE_Dataset_sindy = []\n",
    "KDE_Dataset_sindy.append(dldt.flatten())\n",
    "Dist_params_sindy = []\n",
    "for i in tqdm(range(len(bootstrap_params))):\n",
    "    response = intgrt(bootstrap_params[i])\n",
    "#     response = response.flatten()\n",
    "    mse = mean_squared_error(train, response[:,1], squared = False)\n",
    "    # Specify mse value range for the accepted response\n",
    "    if mse<0.015:\n",
    "        KDE_Dataset_sindy.append(response[:,1])\n",
    "        Dist_params_sindy.append(bootstrap_params[i])\n",
    "        \n",
    "KDE_Dataset_sindy = np.array(KDE_Dataset_sindy)"
   ]
  },
  {
   "cell_type": "code",
   "execution_count": 15,
   "id": "0daeede0",
   "metadata": {},
   "outputs": [],
   "source": [
    "vector_length = len(obs_height) #Specifying vector length for acceptance probability calculation\n",
    "\n",
    "def kde_obs_sindy(X, i=vector_length):\n",
    "    # Fit a kernel density estimator to the KDE_Dataset_sindy\n",
    "    kde = KernelDensity(kernel='gaussian', bandwidth=0.2).fit(KDE_Dataset_sindy[:,:i])\n",
    "    pds = np.exp(kde.score_samples(X[:,:i]))\n",
    "    return pds"
   ]
  },
  {
   "cell_type": "code",
   "execution_count": 16,
   "id": "bb512697",
   "metadata": {},
   "outputs": [
    {
     "data": {
      "image/png": "[encoded data removed]",
      "text/plain": [
       "<Figure size 640x480 with 1 Axes>"
      ]
     },
     "metadata": {},
     "output_type": "display_data"
    }
   ],
   "source": [
    "#plot KDE Dataset from SINDy\n",
    "for i in range(len(KDE_Dataset_sindy)):\n",
    "    plt.plot(KDE_Dataset_sindy[i])\n",
    "    \n",
    "plt.xlabel('Time(s)')\n",
    "plt.ylabel('Height(mm)')\n",
    "plt.title(\"Data Distribution From Bootstrap\")\n",
    "plt.plot()\n",
    "plt.show()"
   ]
  },
  {
   "cell_type": "code",
   "execution_count": 17,
   "id": "7ccc4e85",
   "metadata": {},
   "outputs": [],
   "source": [
    "#Estimating a Different Kernel Density from Bootstrapped KDE dataset\n",
    "KDE_Dataset = Differential_set\n",
    "\n",
    "def kde_obs(X, i=vector_length):\n",
    "    # Fit a kernel density estimator to the KDE_Dataset\n",
    "    kde = KernelDensity(kernel='gaussian', bandwidth=0.2).fit(KDE_Dataset[:,:i])\n",
    "    pds = np.exp(kde.score_samples(X[:,:i]))\n",
    "    return pds"
   ]
  },
  {
   "cell_type": "code",
   "execution_count": 18,
   "id": "145c1e80",
   "metadata": {},
   "outputs": [
    {
     "data": {
      "image/png": "[encoded data removed]",
      "text/plain": [
       "<Figure size 640x480 with 1 Axes>"
      ]
     },
     "metadata": {},
     "output_type": "display_data"
    }
   ],
   "source": [
    "#plot Distribution\n",
    "for i in range(len(KDE_Dataset)):\n",
    "    plt.plot(KDE_Dataset[i])\n",
    "    \n",
    "plt.xlabel('Time(s)')\n",
    "plt.ylabel('Height(mm)')\n",
    "plt.title(\"Data Distribution From Bootstrap\")\n",
    "plt.plot()\n",
    "plt.show()"
   ]
  },
  {
   "cell_type": "code",
   "execution_count": 19,
   "id": "38c4c9c8",
   "metadata": {},
   "outputs": [
    {
     "name": "stdout",
     "output_type": "stream",
     "text": [
      "mean of the parameters = \n",
      "  [ 0.00000000e+00 -4.83220319e+00  1.55236867e+02  0.00000000e+00\n",
      " -1.06638753e+04 -5.83028612e+02]\n",
      "All data mean = \n",
      "  [ 0.00000000e+00 -3.45534029e+00  1.54509129e+02  0.00000000e+00\n",
      " -1.06599397e+04 -5.78295008e+02]\n",
      "mode of the parameters = \n",
      "  [[     0.            -17.3257884     144.66409317      0.\n",
      "  -11161.79269914   -642.59126084]]\n"
     ]
    }
   ],
   "source": [
    "#Print the mean of and mode of the parameters of the observed distribution from sindy\n",
    "\n",
    "print(\"mean of the parameters = \\n \", np.mean(Dist_params_sindy,0))\n",
    "print(\"All data mean = \\n \", params) # Recovered parameter using all data\n",
    "print(\"mode of the parameters = \\n \", scipy.stats.mode(Dist_params_sindy,axis=0).mode)"
   ]
  },
  {
   "cell_type": "markdown",
   "id": "7865ae53",
   "metadata": {},
   "source": [
    "### Generating prior samples, Pushforward of this priors, and a Kernel Density Estimator for the pushforward"
   ]
  },
  {
   "cell_type": "code",
   "execution_count": 20,
   "id": "ae394293",
   "metadata": {},
   "outputs": [],
   "source": [
    "def generate_uniform_vectors(lower, upper, iterations=10000):\n",
    "    \"\"\"\n",
    "    Generates uniform random vectors where each component of the vector is within\n",
    "    its corresponding lower and upper bound.\n",
    "\n",
    "    :param lower: A vector of lower bounds for the random values.\n",
    "    :param upper: A vector of upper bounds for the random values.\n",
    "    :param iterations: Number of vectors to generate.\n",
    "    :return: A list of uniform random vectors.\n",
    "    \"\"\"\n",
    "    if len(lower) != len(upper):\n",
    "        raise ValueError(\"Lower and upper bounds vectors must be of the same length\")\n",
    "\n",
    "    length = len(lower)\n",
    "    vectors = list([np.random.uniform(lower, upper) for _ in range(iterations)])\n",
    "    return np.array(vectors).reshape(iterations,-1)"
   ]
  },
  {
   "cell_type": "code",
   "execution_count": null,
   "id": "59eb8bef",
   "metadata": {},
   "outputs": [],
   "source": []
  },
  {
   "cell_type": "code",
   "execution_count": 21,
   "id": "feee848f",
   "metadata": {},
   "outputs": [],
   "source": [
    "#Generate n Prior samples\n",
    "mu =  np.mean(Dist_params_sindy,0) #np.array([0,-4,150,0,-10700,-580])#\n",
    "\n",
    "narrow_lower_uniform = mu-np.ones(len(mu))*20 \n",
    "narrow_upper_uniform = mu+np.ones(len(mu))*20 \n",
    "\n",
    "wide_lower_uniform = mu-np.ones(len(mu))*1000\n",
    "wide_upper_uniform = mu+np.ones(len(mu))*1000\n",
    "\n",
    "narrow_interval = vectors = list(generate_uniform_vectors(narrow_lower_uniform, narrow_upper_uniform))\n",
    "wide_interval = vectors = list(generate_uniform_vectors(wide_lower_uniform, wide_upper_uniform, iterations=15000))"
   ]
  },
  {
   "cell_type": "code",
   "execution_count": 22,
   "id": "e4dc8df3",
   "metadata": {
    "scrolled": true
   },
   "outputs": [
    {
     "name": "stderr",
     "output_type": "stream",
     "text": [
      "  0%|                                                                                        | 0/15000 [00:00<?, ?it/s]C:\\Users\\USER\\anaconda3\\lib\\site-packages\\scipy\\integrate\\odepack.py:247: ODEintWarning: Excess work done on this call (perhaps wrong Dfun type). Run with full_output = 1 to get quantitative information.\n",
      "  warnings.warn(warning_msg, ODEintWarning)\n",
      " 49%|█████████████████████████████████████▍                                      | 7377/15000 [00:54<01:04, 118.70it/s]C:\\Users\\USER\\anaconda3\\lib\\site-packages\\scipy\\integrate\\odepack.py:247: ODEintWarning: Repeated convergence failures (perhaps bad Jacobian or tolerances). Run with full_output = 1 to get quantitative information.\n",
      "  warnings.warn(warning_msg, ODEintWarning)\n",
      "100%|███████████████████████████████████████████████████████████████████████████| 15000/15000 [01:41<00:00, 148.42it/s]\n"
     ]
    }
   ],
   "source": [
    "\n",
    "#Generate n Prior samples\n",
    "mu =  np.mean(Dist_params_sindy,0) #np.array([0,-4,150,0,-10700,-580])#\n",
    "std = 50**2\n",
    "Prior_Samples = wide_interval #Generate_priors(10000,mu,np.ones(len(mu))*std)\n",
    "\n",
    "# Generate the Push forward of the prior\n",
    "Push_forward_of_Prior = []\n",
    "for i in tqdm(range(len(Prior_Samples))):\n",
    "    Push_forward_of_Prior.append(Q(Prior_Samples[i]))\n",
    "Push_forward_of_Prior = np.array(Push_forward_of_Prior)"
   ]
  },
  {
   "cell_type": "code",
   "execution_count": 23,
   "id": "d6f26112",
   "metadata": {},
   "outputs": [],
   "source": [
    "# Prior_kde function using same vector length used for the data kde\n",
    "def prior_kde(X, dat=Push_forward_of_Prior, i=vector_length):\n",
    "    \"\"\"Fits a kernel density estimator to the datapoint up until the (i+1)th term\"\"\"\n",
    "    # Fit a kernel density estimator to the KDE_Dataset\n",
    "    kde = KernelDensity(kernel='gaussian', bandwidth=0.2).fit(dat[:,:i])\n",
    "    if len(X.shape)<2:\n",
    "        X=X.reshape(1,-1)\n",
    "    pds = np.exp(kde.score_samples(X[:,:i]))\n",
    "    return pds\n",
    "\n",
    "# Reweighting Factor r(lamda)\n",
    "def r_ratio(Push_forward_Data):\n",
    "    r_prior = prior_kde(Push_forward_Data)\n",
    "    r_obs = kde_obs_sindy(Push_forward_Data)\n",
    "    ratios = r_obs/r_prior\n",
    "    m = max(ratios)\n",
    "    return m,ratios,r_obs"
   ]
  },
  {
   "cell_type": "markdown",
   "id": "aba8f012",
   "metadata": {},
   "source": [
    "### Rejection Sampling Algorithm"
   ]
  },
  {
   "cell_type": "code",
   "execution_count": 24,
   "id": "b54dad3d",
   "metadata": {
    "scrolled": true
   },
   "outputs": [],
   "source": [
    "# Calling the Reweighting Factor function to find M and Lamda values of the prior parameters\n",
    "M, Lamda_values, r_observed = r_ratio(Push_forward_of_Prior) "
   ]
  },
  {
   "cell_type": "code",
   "execution_count": 25,
   "id": "aef86784",
   "metadata": {},
   "outputs": [
    {
     "data": {
      "text/plain": [
       "(1,)"
      ]
     },
     "execution_count": 25,
     "metadata": {},
     "output_type": "execute_result"
    }
   ],
   "source": [
    "#Iterating to accept or reject lamdas in the prior\n",
    "Accepted_lamda = []\n",
    "Index = []\n",
    "xi_p_vals =[]\n",
    "eta_p_vals = []\n",
    "for p in range(len(Lamda_values)):\n",
    "    r_p = Lamda_values[p]\n",
    "    xi_p = np.random.uniform()\n",
    "    xi_p_vals.append(xi_p)\n",
    "    eta_p = r_p/M\n",
    "    eta_p_vals.append(eta_p)\n",
    "    if eta_p > xi_p:\n",
    "        Accepted_lamda.append(Prior_Samples[p])\n",
    "        Index.append(p)\n",
    "Accepted_lamda = np.array(Accepted_lamda)\n",
    "Index = np.array(Index)\n",
    "Index[:].shape"
   ]
  },
  {
   "cell_type": "code",
   "execution_count": 26,
   "id": "c0383dc8",
   "metadata": {},
   "outputs": [],
   "source": [
    "def plot_histogram(data, bins=10, title=\"Histogram\", xlabel=\"Likelihood values\", ylabel=\"Frequency\"):\n",
    "    \"\"\"\n",
    "    Plots a histogram for the given 1D data array.\n",
    "\n",
    "    :param data: A 1D array of numerical data.\n",
    "    :param bins: Number of bins for the histogram.\n",
    "    :param title: Title of the histogram.\n",
    "    :param xlabel: Label for the X-axis.\n",
    "    :param ylabel: Label for the Y-axis.\n",
    "    \"\"\"\n",
    "    plt.hist(data, bins=bins, edgecolor='black')\n",
    "    plt.title(title)\n",
    "    plt.xlabel(xlabel)\n",
    "    plt.ylabel(ylabel)\n",
    "    plt.show()\n",
    "    \n",
    "def plot_histogram(data, bins=10, rwidth=0.8, title=\"Histogram\", xlabel=\"Likelihood values\", ylabel=\"Frequency\"):\n",
    "    \"\"\"\n",
    "    Plots a histogram with spaces between bars for the given 1D data array.\n",
    "\n",
    "    :param data: A 1D array of numerical data.\n",
    "    :param bins: Number of bins for the histogram.\n",
    "    :param rwidth: Relative width of the bars as a fraction of the bin width.\n",
    "    :param title: Title of the histogram.\n",
    "    :param xlabel: Label for the X-axis.\n",
    "    :param ylabel: Label for the Y-axis.\n",
    "    \"\"\"\n",
    "    plt.hist(data, bins=bins, edgecolor='black', rwidth=rwidth)\n",
    "    plt.title(title)\n",
    "    plt.xlabel(xlabel)\n",
    "    plt.ylabel(ylabel)\n",
    "    plt.show()"
   ]
  },
  {
   "cell_type": "code",
   "execution_count": 27,
   "id": "16956663",
   "metadata": {},
   "outputs": [
    {
     "data": {
      "image/png": "[encoded data removed]",
      "text/plain": [
       "<Figure size 640x480 with 1 Axes>"
      ]
     },
     "metadata": {},
     "output_type": "display_data"
    }
   ],
   "source": [
    "Likelihood_Values = []\n",
    "for i in range(len(Index)):\n",
    "    idx = Index[i]\n",
    "    Likelihood_Values.append(Lamda_values[idx])\n",
    "Likelihood_Values = np.array(Likelihood_Values)   \n",
    "\n",
    "plot_histogram(Likelihood_Values)"
   ]
  },
  {
   "cell_type": "code",
   "execution_count": 28,
   "id": "4820920c",
   "metadata": {},
   "outputs": [
    {
     "name": "stderr",
     "output_type": "stream",
     "text": [
      "C:\\Users\\USER\\anaconda3\\lib\\site-packages\\numpy\\lib\\histograms.py:823: RuntimeWarning: divide by zero encountered in double_scalars\n",
      "  norm = n_equal_bins / _unsigned_subtract(last_edge, first_edge)\n",
      "C:\\Users\\USER\\anaconda3\\lib\\site-packages\\numpy\\lib\\histograms.py:851: RuntimeWarning: invalid value encountered in multiply\n",
      "  f_indices = _unsigned_subtract(tmp_a, first_edge) * norm\n"
     ]
    },
    {
     "ename": "IndexError",
     "evalue": "index -9223372036854775808 is out of bounds for axis 0 with size 11",
     "output_type": "error",
     "traceback": [
      "\u001b[1;31m---------------------------------------------------------------------------\u001b[0m",
      "\u001b[1;31mIndexError\u001b[0m                                Traceback (most recent call last)",
      "\u001b[1;32m~\\AppData\\Local\\Temp\\ipykernel_6660\\1939706951.py\u001b[0m in \u001b[0;36m<module>\u001b[1;34m\u001b[0m\n\u001b[0;32m      5\u001b[0m \u001b[0mLikelihood_Values\u001b[0m \u001b[1;33m=\u001b[0m \u001b[0mnp\u001b[0m\u001b[1;33m.\u001b[0m\u001b[0marray\u001b[0m\u001b[1;33m(\u001b[0m\u001b[0mLikelihood_Values\u001b[0m\u001b[1;33m)\u001b[0m\u001b[1;33m\u001b[0m\u001b[1;33m\u001b[0m\u001b[0m\n\u001b[0;32m      6\u001b[0m \u001b[1;33m\u001b[0m\u001b[0m\n\u001b[1;32m----> 7\u001b[1;33m \u001b[0mplot_histogram\u001b[0m\u001b[1;33m(\u001b[0m\u001b[0mLikelihood_Values\u001b[0m\u001b[1;33m)\u001b[0m\u001b[1;33m\u001b[0m\u001b[1;33m\u001b[0m\u001b[0m\n\u001b[0m",
      "\u001b[1;32m~\\AppData\\Local\\Temp\\ipykernel_6660\\1506288737.py\u001b[0m in \u001b[0;36mplot_histogram\u001b[1;34m(data, bins, rwidth, title, xlabel, ylabel)\u001b[0m\n\u001b[0;32m     26\u001b[0m     \u001b[1;33m:\u001b[0m\u001b[0mparam\u001b[0m \u001b[0mylabel\u001b[0m\u001b[1;33m:\u001b[0m \u001b[0mLabel\u001b[0m \u001b[1;32mfor\u001b[0m \u001b[0mthe\u001b[0m \u001b[0mY\u001b[0m\u001b[1;33m-\u001b[0m\u001b[0maxis\u001b[0m\u001b[1;33m.\u001b[0m\u001b[1;33m\u001b[0m\u001b[1;33m\u001b[0m\u001b[0m\n\u001b[0;32m     27\u001b[0m     \"\"\"\n\u001b[1;32m---> 28\u001b[1;33m     \u001b[0mplt\u001b[0m\u001b[1;33m.\u001b[0m\u001b[0mhist\u001b[0m\u001b[1;33m(\u001b[0m\u001b[0mdata\u001b[0m\u001b[1;33m,\u001b[0m \u001b[0mbins\u001b[0m\u001b[1;33m=\u001b[0m\u001b[0mbins\u001b[0m\u001b[1;33m,\u001b[0m \u001b[0medgecolor\u001b[0m\u001b[1;33m=\u001b[0m\u001b[1;34m'black'\u001b[0m\u001b[1;33m,\u001b[0m \u001b[0mrwidth\u001b[0m\u001b[1;33m=\u001b[0m\u001b[0mrwidth\u001b[0m\u001b[1;33m)\u001b[0m\u001b[1;33m\u001b[0m\u001b[1;33m\u001b[0m\u001b[0m\n\u001b[0m\u001b[0;32m     29\u001b[0m     \u001b[0mplt\u001b[0m\u001b[1;33m.\u001b[0m\u001b[0mtitle\u001b[0m\u001b[1;33m(\u001b[0m\u001b[0mtitle\u001b[0m\u001b[1;33m)\u001b[0m\u001b[1;33m\u001b[0m\u001b[1;33m\u001b[0m\u001b[0m\n\u001b[0;32m     30\u001b[0m     \u001b[0mplt\u001b[0m\u001b[1;33m.\u001b[0m\u001b[0mxlabel\u001b[0m\u001b[1;33m(\u001b[0m\u001b[0mxlabel\u001b[0m\u001b[1;33m)\u001b[0m\u001b[1;33m\u001b[0m\u001b[1;33m\u001b[0m\u001b[0m\n",
      "\u001b[1;32m~\\AppData\\Roaming\\Python\\Python39\\site-packages\\matplotlib\\pyplot.py\u001b[0m in \u001b[0;36mhist\u001b[1;34m(x, bins, range, density, weights, cumulative, bottom, histtype, align, orientation, rwidth, log, color, label, stacked, data, **kwargs)\u001b[0m\n\u001b[0;32m   2643\u001b[0m         \u001b[0morientation\u001b[0m\u001b[1;33m=\u001b[0m\u001b[1;34m'vertical'\u001b[0m\u001b[1;33m,\u001b[0m \u001b[0mrwidth\u001b[0m\u001b[1;33m=\u001b[0m\u001b[1;32mNone\u001b[0m\u001b[1;33m,\u001b[0m \u001b[0mlog\u001b[0m\u001b[1;33m=\u001b[0m\u001b[1;32mFalse\u001b[0m\u001b[1;33m,\u001b[0m \u001b[0mcolor\u001b[0m\u001b[1;33m=\u001b[0m\u001b[1;32mNone\u001b[0m\u001b[1;33m,\u001b[0m\u001b[1;33m\u001b[0m\u001b[1;33m\u001b[0m\u001b[0m\n\u001b[0;32m   2644\u001b[0m         label=None, stacked=False, *, data=None, **kwargs):\n\u001b[1;32m-> 2645\u001b[1;33m     return gca().hist(\n\u001b[0m\u001b[0;32m   2646\u001b[0m         \u001b[0mx\u001b[0m\u001b[1;33m,\u001b[0m \u001b[0mbins\u001b[0m\u001b[1;33m=\u001b[0m\u001b[0mbins\u001b[0m\u001b[1;33m,\u001b[0m \u001b[0mrange\u001b[0m\u001b[1;33m=\u001b[0m\u001b[0mrange\u001b[0m\u001b[1;33m,\u001b[0m \u001b[0mdensity\u001b[0m\u001b[1;33m=\u001b[0m\u001b[0mdensity\u001b[0m\u001b[1;33m,\u001b[0m \u001b[0mweights\u001b[0m\u001b[1;33m=\u001b[0m\u001b[0mweights\u001b[0m\u001b[1;33m,\u001b[0m\u001b[1;33m\u001b[0m\u001b[1;33m\u001b[0m\u001b[0m\n\u001b[0;32m   2647\u001b[0m         \u001b[0mcumulative\u001b[0m\u001b[1;33m=\u001b[0m\u001b[0mcumulative\u001b[0m\u001b[1;33m,\u001b[0m \u001b[0mbottom\u001b[0m\u001b[1;33m=\u001b[0m\u001b[0mbottom\u001b[0m\u001b[1;33m,\u001b[0m \u001b[0mhisttype\u001b[0m\u001b[1;33m=\u001b[0m\u001b[0mhisttype\u001b[0m\u001b[1;33m,\u001b[0m\u001b[1;33m\u001b[0m\u001b[1;33m\u001b[0m\u001b[0m\n",
      "\u001b[1;32m~\\AppData\\Roaming\\Python\\Python39\\site-packages\\matplotlib\\__init__.py\u001b[0m in \u001b[0;36minner\u001b[1;34m(ax, data, *args, **kwargs)\u001b[0m\n\u001b[0;32m   1470\u001b[0m     \u001b[1;32mdef\u001b[0m \u001b[0minner\u001b[0m\u001b[1;33m(\u001b[0m\u001b[0max\u001b[0m\u001b[1;33m,\u001b[0m \u001b[1;33m*\u001b[0m\u001b[0margs\u001b[0m\u001b[1;33m,\u001b[0m \u001b[0mdata\u001b[0m\u001b[1;33m=\u001b[0m\u001b[1;32mNone\u001b[0m\u001b[1;33m,\u001b[0m \u001b[1;33m**\u001b[0m\u001b[0mkwargs\u001b[0m\u001b[1;33m)\u001b[0m\u001b[1;33m:\u001b[0m\u001b[1;33m\u001b[0m\u001b[1;33m\u001b[0m\u001b[0m\n\u001b[0;32m   1471\u001b[0m         \u001b[1;32mif\u001b[0m \u001b[0mdata\u001b[0m \u001b[1;32mis\u001b[0m \u001b[1;32mNone\u001b[0m\u001b[1;33m:\u001b[0m\u001b[1;33m\u001b[0m\u001b[1;33m\u001b[0m\u001b[0m\n\u001b[1;32m-> 1472\u001b[1;33m             \u001b[1;32mreturn\u001b[0m \u001b[0mfunc\u001b[0m\u001b[1;33m(\u001b[0m\u001b[0max\u001b[0m\u001b[1;33m,\u001b[0m \u001b[1;33m*\u001b[0m\u001b[0mmap\u001b[0m\u001b[1;33m(\u001b[0m\u001b[0msanitize_sequence\u001b[0m\u001b[1;33m,\u001b[0m \u001b[0margs\u001b[0m\u001b[1;33m)\u001b[0m\u001b[1;33m,\u001b[0m \u001b[1;33m**\u001b[0m\u001b[0mkwargs\u001b[0m\u001b[1;33m)\u001b[0m\u001b[1;33m\u001b[0m\u001b[1;33m\u001b[0m\u001b[0m\n\u001b[0m\u001b[0;32m   1473\u001b[0m \u001b[1;33m\u001b[0m\u001b[0m\n\u001b[0;32m   1474\u001b[0m         \u001b[0mbound\u001b[0m \u001b[1;33m=\u001b[0m \u001b[0mnew_sig\u001b[0m\u001b[1;33m.\u001b[0m\u001b[0mbind\u001b[0m\u001b[1;33m(\u001b[0m\u001b[0max\u001b[0m\u001b[1;33m,\u001b[0m \u001b[1;33m*\u001b[0m\u001b[0margs\u001b[0m\u001b[1;33m,\u001b[0m \u001b[1;33m**\u001b[0m\u001b[0mkwargs\u001b[0m\u001b[1;33m)\u001b[0m\u001b[1;33m\u001b[0m\u001b[1;33m\u001b[0m\u001b[0m\n",
      "\u001b[1;32m~\\AppData\\Roaming\\Python\\Python39\\site-packages\\matplotlib\\axes\\_axes.py\u001b[0m in \u001b[0;36mhist\u001b[1;34m(self, x, bins, range, density, weights, cumulative, bottom, histtype, align, orientation, rwidth, log, color, label, stacked, **kwargs)\u001b[0m\n\u001b[0;32m   6788\u001b[0m             \u001b[1;31m# this will automatically overwrite bins,\u001b[0m\u001b[1;33m\u001b[0m\u001b[1;33m\u001b[0m\u001b[0m\n\u001b[0;32m   6789\u001b[0m             \u001b[1;31m# so that each histogram uses the same bins\u001b[0m\u001b[1;33m\u001b[0m\u001b[1;33m\u001b[0m\u001b[0m\n\u001b[1;32m-> 6790\u001b[1;33m             \u001b[0mm\u001b[0m\u001b[1;33m,\u001b[0m \u001b[0mbins\u001b[0m \u001b[1;33m=\u001b[0m \u001b[0mnp\u001b[0m\u001b[1;33m.\u001b[0m\u001b[0mhistogram\u001b[0m\u001b[1;33m(\u001b[0m\u001b[0mx\u001b[0m\u001b[1;33m[\u001b[0m\u001b[0mi\u001b[0m\u001b[1;33m]\u001b[0m\u001b[1;33m,\u001b[0m \u001b[0mbins\u001b[0m\u001b[1;33m,\u001b[0m \u001b[0mweights\u001b[0m\u001b[1;33m=\u001b[0m\u001b[0mw\u001b[0m\u001b[1;33m[\u001b[0m\u001b[0mi\u001b[0m\u001b[1;33m]\u001b[0m\u001b[1;33m,\u001b[0m \u001b[1;33m**\u001b[0m\u001b[0mhist_kwargs\u001b[0m\u001b[1;33m)\u001b[0m\u001b[1;33m\u001b[0m\u001b[1;33m\u001b[0m\u001b[0m\n\u001b[0m\u001b[0;32m   6791\u001b[0m             \u001b[0mtops\u001b[0m\u001b[1;33m.\u001b[0m\u001b[0mappend\u001b[0m\u001b[1;33m(\u001b[0m\u001b[0mm\u001b[0m\u001b[1;33m)\u001b[0m\u001b[1;33m\u001b[0m\u001b[1;33m\u001b[0m\u001b[0m\n\u001b[0;32m   6792\u001b[0m         \u001b[0mtops\u001b[0m \u001b[1;33m=\u001b[0m \u001b[0mnp\u001b[0m\u001b[1;33m.\u001b[0m\u001b[0marray\u001b[0m\u001b[1;33m(\u001b[0m\u001b[0mtops\u001b[0m\u001b[1;33m,\u001b[0m \u001b[0mfloat\u001b[0m\u001b[1;33m)\u001b[0m  \u001b[1;31m# causes problems later if it's an int\u001b[0m\u001b[1;33m\u001b[0m\u001b[1;33m\u001b[0m\u001b[0m\n",
      "\u001b[1;32m~\\anaconda3\\lib\\site-packages\\numpy\\core\\overrides.py\u001b[0m in \u001b[0;36mhistogram\u001b[1;34m(*args, **kwargs)\u001b[0m\n",
      "\u001b[1;32m~\\anaconda3\\lib\\site-packages\\numpy\\lib\\histograms.py\u001b[0m in \u001b[0;36mhistogram\u001b[1;34m(a, bins, range, normed, weights, density)\u001b[0m\n\u001b[0;32m    855\u001b[0m             \u001b[1;31m# The index computation is not guaranteed to give exactly\u001b[0m\u001b[1;33m\u001b[0m\u001b[1;33m\u001b[0m\u001b[0m\n\u001b[0;32m    856\u001b[0m             \u001b[1;31m# consistent results within ~1 ULP of the bin edges.\u001b[0m\u001b[1;33m\u001b[0m\u001b[1;33m\u001b[0m\u001b[0m\n\u001b[1;32m--> 857\u001b[1;33m             \u001b[0mdecrement\u001b[0m \u001b[1;33m=\u001b[0m \u001b[0mtmp_a\u001b[0m \u001b[1;33m<\u001b[0m \u001b[0mbin_edges\u001b[0m\u001b[1;33m[\u001b[0m\u001b[0mindices\u001b[0m\u001b[1;33m]\u001b[0m\u001b[1;33m\u001b[0m\u001b[1;33m\u001b[0m\u001b[0m\n\u001b[0m\u001b[0;32m    858\u001b[0m             \u001b[0mindices\u001b[0m\u001b[1;33m[\u001b[0m\u001b[0mdecrement\u001b[0m\u001b[1;33m]\u001b[0m \u001b[1;33m-=\u001b[0m \u001b[1;36m1\u001b[0m\u001b[1;33m\u001b[0m\u001b[1;33m\u001b[0m\u001b[0m\n\u001b[0;32m    859\u001b[0m             \u001b[1;31m# The last bin includes the right edge. The other bins do not.\u001b[0m\u001b[1;33m\u001b[0m\u001b[1;33m\u001b[0m\u001b[0m\n",
      "\u001b[1;31mIndexError\u001b[0m: index -9223372036854775808 is out of bounds for axis 0 with size 11"
     ]
    },
    {
     "data": {
      "image/png": "[encoded data removed]",
      "text/plain": [
       "<Figure size 640x480 with 1 Axes>"
      ]
     },
     "metadata": {},
     "output_type": "display_data"
    }
   ],
   "source": [
    "Likelihood_Values = []\n",
    "for i in range(len(Index)):\n",
    "    idx = Index[i]\n",
    "    Likelihood_Values.append(r_observed[idx])\n",
    "Likelihood_Values = np.array(Likelihood_Values)   \n",
    "\n",
    "plot_histogram(Likelihood_Values)"
   ]
  },
  {
   "cell_type": "code",
   "execution_count": 29,
   "id": "ae7801ff",
   "metadata": {},
   "outputs": [
    {
     "data": {
      "image/png": "[encoded data removed]",
      "text/plain": [
       "<Figure size 640x480 with 1 Axes>"
      ]
     },
     "metadata": {},
     "output_type": "display_data"
    }
   ],
   "source": [
    "Likelihood_Values = []\n",
    "for i in range(len(Index)):\n",
    "    idx = Index[i]\n",
    "    Likelihood_Values.append(eta_p_vals[idx])\n",
    "Likelihood_Values = np.array(Likelihood_Values)   \n",
    "\n",
    "plot_histogram(Likelihood_Values)"
   ]
  },
  {
   "cell_type": "code",
   "execution_count": null,
   "id": "e3cfff78",
   "metadata": {},
   "outputs": [],
   "source": [
    "# Compute Pushforward of the posterior\n",
    "Push_forward_of_Posterior = []\n",
    "for i in tqdm(range(len(Accepted_lamda))):\n",
    "    Push_forward_of_Posterior.append(Q(Accepted_lamda[i]))\n",
    "Push_forward_of_Posterior = np.array(Push_forward_of_Posterior)    "
   ]
  },
  {
   "cell_type": "code",
   "execution_count": null,
   "id": "970a3e79",
   "metadata": {},
   "outputs": [],
   "source": [
    "def plot_matrix_distribution(matrix, labels, y_label= [\"Density\"]*50):\n",
    "    \"\"\"\n",
    "    Plots the distribution of each column of a matrix using a kernel density estimation.\n",
    "    Each distribution is plotted in a separate figure vertically stacked on top of each other.\n",
    "    \n",
    "    Parameters:\n",
    "        matrix (numpy.ndarray): Input matrix with shape (n_rows, n_cols).\n",
    "        labels (list): List of strings containing the labels for each column.\n",
    "    \"\"\"\n",
    "    min_lim =  np.min(np.min(matrix, axis=0))\n",
    "    max_lim =  np.max(np.max(matrix, axis=0))\n",
    "    \n",
    "    # Create a separate plot for each column\n",
    "    for i in range(matrix.shape[1]):\n",
    "        fig, ax = plt.subplots(figsize=(3, 1.5))\n",
    "        min_lim = np.min(matrix[:,i], axis=0)\n",
    "        max_lim = np.max(matrix[:,i], axis=0)\n",
    "        \n",
    "        # Fit a kernel density estimator for the column\n",
    "        kde = sns.kdeplot(matrix[:, i], bw_adjust=0.5, shade=True, color=\"brown\", ax=ax)\n",
    "        \n",
    "        # Set plot aesthetics\n",
    "        sns.despine(left=True, ax=ax)\n",
    "        ax.set_xlabel(f\"$\\mu$ = {np.mean(matrix[:,i]).round(3)}\")\n",
    "        ax.set_ylabel(y_label[i])\n",
    "        ax.set_yticks([])\n",
    "        ax.set_xlim(min_lim,max_lim)\n",
    "        \n",
    "        # Add a vertical dashed line at the zero point of the x-axis\n",
    "        ax.axvline(x=0, linestyle='--', color='black', alpha=0.8)\n",
    "        \n",
    "        plt.tight_layout()\n",
    "        \n",
    "        # Show the plot\n",
    "        plt.show()"
   ]
  },
  {
   "cell_type": "code",
   "execution_count": null,
   "id": "e9a19b00",
   "metadata": {},
   "outputs": [],
   "source": [
    "labels =  ['1','L','dL/dt','L^2','LdL/dt','(dL/dt)^2' ]\n",
    "y_label = ['1','L','dL/dt','L^2','LdL/dt','(dL/dt)^2' ]\n",
    "plot_matrix_distribution(Accepted_lamda[:], labels, y_label)"
   ]
  },
  {
   "cell_type": "code",
   "execution_count": null,
   "id": "d6dd7c41",
   "metadata": {
    "scrolled": true
   },
   "outputs": [],
   "source": [
    "# Compare mean Prior and Posterior samples of the parameters\n",
    "print(f\"Prior mean, sigma = \\n {np.mean(Prior_Samples, 0).round(2)} \\n {np.std(Prior_Samples, 0).round(2)} \\n\")\n",
    "print(f\"Posterior mean = \\n {np.mean(Accepted_lamda,0).round(2)} \\n {np.std(Accepted_lamda, 0).round(2)} \\n\")"
   ]
  },
  {
   "cell_type": "code",
   "execution_count": null,
   "id": "47b32c2f",
   "metadata": {},
   "outputs": [],
   "source": [
    "#Scatter plots of Prior and Posterior samples for each parameter\n",
    "accpt_par = Accepted_lamda#[:,focus_idx]\n",
    "prior_par = Prior_Samples#[:,focus_idx] \n",
    "lab_par = np.array(labels)#[focus_idx]\n",
    "for a in range(len(lab_par)):\n",
    "    for b in range(len(lab_par)):\n",
    "        if b==a+1:\n",
    "            plt.plot(prior_par[:,a],prior_par[:,b],'r.', label='Prior')\n",
    "            plt.plot(accpt_par[:,a],accpt_par[:,b],'b.',label='Posterior')\n",
    "            plt.legend()\n",
    "            plt.xlabel(lab_par[a])\n",
    "            plt.ylabel(lab_par[b])\n",
    "            plt.show()"
   ]
  },
  {
   "cell_type": "code",
   "execution_count": null,
   "id": "c669a168",
   "metadata": {},
   "outputs": [],
   "source": [
    "# Plot pushforward distribution\n",
    "for i in range(len(Push_forward_of_Posterior)):\n",
    "    plt.plot(Push_forward_of_Posterior[i])\n",
    "\n",
    "plt.xlabel('Time(s)')\n",
    "plt.ylabel('Height(mm)')\n",
    "plt.title(\"Posterior Distribution\")\n",
    "plt.plot()\n",
    "plt.show()"
   ]
  },
  {
   "cell_type": "code",
   "execution_count": null,
   "id": "767580b5",
   "metadata": {},
   "outputs": [],
   "source": [
    "labels = ['1','2','3','4','5','6','7','8','9','10','11','12']\n",
    "def plot_normal(mu = 0, sigma=1, label = labels , title ='Normal Distribution'):\n",
    "    mu = np.array(mu).reshape(-1,1)\n",
    "    if len(mu)>1:\n",
    "        clr = ['b','r','g','k','yellow','orange','pink']\n",
    "        mu = mu.reshape(-1)\n",
    "        x_vals = []\n",
    "        pdf_vals =[]\n",
    "        for i in range(len(mu)):\n",
    "            x_i = np.linspace(mu[i] - 4*sigma[i], mu[i] + 4*sigma[i], 1000)\n",
    "            pdf_i = 1/(sigma[i] * np.sqrt(2 * np.pi)) * np.exp(-0.5 * ((x_i - mu[i])/sigma[i])**2)\n",
    "            integral = np.trapz(pdf_i, x_i)\n",
    "#             print(integral)\n",
    "            pdf_i = pdf_i / integral\n",
    "            x_vals.append(x_i)\n",
    "            pdf_vals.append(pdf_i)\n",
    "            \n",
    "        # Create a plot of the normal distribution\n",
    "        fig, ax = plt.subplots()\n",
    "        for i in range(len(x_vals)):\n",
    "            ax.plot(x_vals[i], pdf_vals[i], color=clr[i], lw=2, label = label[i])\n",
    "        ax.set_xlabel('$\\lambda$')\n",
    "        ax.set_ylabel('PDF')\n",
    "        ax.set_title(title)\n",
    "        ax.legend()\n",
    "        plt.show()    \n",
    "    \n",
    "    else:\n",
    "        mu = mu.reshape(-1)\n",
    "        x = np.linspace(mu - 4*sigma, mu + 4*sigma, 1000)\n",
    "        pdf = 1/(sigma * np.sqrt(2 * np.pi)) * np.exp(-0.5 * ((x - mu)/sigma)**2)\n",
    "        integral = np.trapz(pdf, x)\n",
    "        pdf = pdf / integral\n",
    "        \n",
    "          # Create a plot of the normal distribution\n",
    "        fig, ax = plt.subplots()\n",
    "        ax.plot(x, pdf, color=color, lw=2)\n",
    "        ax.set_xlabel('$\\lambda$')\n",
    "        ax.set_ylabel('PDF')\n",
    "        ax.set_title(title)\n",
    "        plt.show()"
   ]
  },
  {
   "cell_type": "code",
   "execution_count": null,
   "id": "9db8457b",
   "metadata": {},
   "outputs": [],
   "source": [
    "\n",
    "n=Accepted_lamda.shape[0]\n",
    "for i in range(4):\n",
    "    labels = ['Prior', 'Posterior', 'True']\n",
    "    pr_vals = Prior_Samples[:,i] \n",
    "    ac_vals = Accepted_lamda[:,i]\n",
    "    \n",
    "    mu_pr,std_pr = np.mean(pr_vals),np.std(pr_vals)\n",
    "    mu_ac,std_ac = np.mean(ac_vals),np.std(ac_vals)\n",
    "    \n",
    "    mu_gen = np.array([mu_pr,mu_ac])\n",
    "    std_gen = np.array([std_pr,std_ac])\n",
    "    plot_normal(mu = mu_gen, sigma=std_gen, label = labels , title ='Normal Distribution')\n",
    "    "
   ]
  },
  {
   "cell_type": "code",
   "execution_count": null,
   "id": "6adf2ae5",
   "metadata": {},
   "outputs": [],
   "source": [
    "# Posterior_kde\n",
    "def posterior_kde(X=Push_forward_of_Posterior, dat=Push_forward_of_Posterior ,i=10):\n",
    "    \"\"\"Fits a kernel density estimator to the datapoint up until the (i+1)th term\"\"\"\n",
    "    # Fit a kernel density estimator to the KDE_Dataset\n",
    "    post_kde = KernelDensity(kernel='gaussian', bandwidth=0.2).fit(dat[:,:i])\n",
    "    if len(X.shape)<2:\n",
    "        X=X.reshape(1,-1)\n",
    "    pds = np.exp(post_kde.score_samples(X[:,:i]))\n",
    "    return pds"
   ]
  },
  {
   "cell_type": "code",
   "execution_count": null,
   "id": "b2fa6b05",
   "metadata": {},
   "outputs": [],
   "source": [
    "def extract_column_k(Data, k=0):\n",
    "    combine = []\n",
    "    for i in range(len(Data)):\n",
    "        data = Data[i]\n",
    "        combine.append(data[:,k])\n",
    "    combine = np.array(combine)\n",
    "    return combine.T\n",
    "\n",
    "# p_prior = Push_forward_of_Prior\n",
    "# p_post = Push_forward_of_Posterior"
   ]
  },
  {
   "cell_type": "code",
   "execution_count": null,
   "id": "7bae5dd7",
   "metadata": {},
   "outputs": [],
   "source": [
    "for k in range(10,200,10):\n",
    "    post_prior = extract_column_k([Push_forward_of_Posterior, KDE_Dataset[:len(Push_forward_of_Posterior)]], k=k)\n",
    "    plot_normal(np.mean(post_prior, axis=0),np.std(post_prior, axis=0), ['Posterior','Observed'], f'{k}th instance distribution')\n",
    "# plot_multivariate_normal(post_prior, 'Alpha', 'Beta', 'Recovered')"
   ]
  },
  {
   "cell_type": "code",
   "execution_count": null,
   "id": "bc8d7f5d",
   "metadata": {},
   "outputs": [],
   "source": []
  },
  {
   "cell_type": "code",
   "execution_count": null,
   "id": "c2a63b27",
   "metadata": {},
   "outputs": [],
   "source": []
  },
  {
   "cell_type": "code",
   "execution_count": null,
   "id": "a7d0305d",
   "metadata": {},
   "outputs": [],
   "source": []
  },
  {
   "cell_type": "markdown",
   "id": "b33e6000",
   "metadata": {},
   "source": [
    "# Continuous Sampling Until M Samples Accepted"
   ]
  },
  {
   "cell_type": "markdown",
   "id": "898e832a",
   "metadata": {},
   "source": [
    "### Adaptive Sampling"
   ]
  },
  {
   "cell_type": "code",
   "execution_count": null,
   "id": "d1ff450f",
   "metadata": {},
   "outputs": [],
   "source": [
    "# featuring_params = Dist_params\n",
    "#Generate n Prior samples\n",
    "mu =  np.mean(Dist_params_sindy,0)#np.array([0,-4,150,0,-10700,-580])#\n",
    "Prior_Samples = Generate_priors(10000,mu,np.ones(len(mu))*100)\n",
    "\n",
    "# Generating the Push forward of the prior\n",
    "Push_forward_of_Prior = []\n",
    "for i in tqdm(range(len(Prior_Samples))):\n",
    "    Push_forward_of_Prior.append(Q(Prior_Samples[i]))\n",
    "Push_forward_of_Prior = np.array(Push_forward_of_Prior)"
   ]
  },
  {
   "cell_type": "code",
   "execution_count": null,
   "id": "d2ebf954",
   "metadata": {},
   "outputs": [],
   "source": [
    "N_accepted = []\n",
    "l_sz = len(params)\n",
    "mean_ = np.zeros(l_sz)\n",
    "std_ = np.ones(l_sz)*10000.0\n",
    "while len(N_accepted) < 25000: \n",
    "    print(len(N_accepted))\n",
    "    #Generate 5,000 Prior samples\n",
    "    if len(N_accepted)<10:\n",
    "        Prior_Samples = Generate_priors(2000, np.zeros(l_sz), np.ones(l_sz)*1000.0) #prior_feat_mean, std_feat )\n",
    "    else:\n",
    "        Prior_Samples = Generate_priors(1000, mean_, std_ )\n",
    "\n",
    "    # Generating the Push forward of the prior\n",
    "\n",
    "    Push_forward_of_Prior = []\n",
    "    for i in tqdm(range(len(Prior_Samples))):\n",
    "        Push_forward_of_Prior.append(Q(Prior_Samples[i]))\n",
    "    Push_forward_of_Prior = np.array(Push_forward_of_Prior)\n",
    "\n",
    "    # Prior_kde function using same vector length used for the data kde\n",
    "    def prior_kde(X, dat=Push_forward_of_Prior, i=vector_length):\n",
    "        \"\"\"Fits a kernel density estimator to the datapoint up until the (i+1)th term\"\"\"\n",
    "        # Fit a kernel density estimator to the KDE_Dataset\n",
    "        kde = KernelDensity(kernel='gaussian', bandwidth=0.2).fit(dat[:,:i])\n",
    "        if len(X.shape)<2:\n",
    "            X=X.reshape(1,-1)\n",
    "        pds = np.exp(kde.score_samples(X[:,:i]))\n",
    "        return pds\n",
    "\n",
    "    # The ratio function\n",
    "    def r_ratio(lamda):\n",
    "        qoi = Q(lamda)\n",
    "        obs_density = kde_obs(qoi)\n",
    "        prior_density = prior_kde(qoi)\n",
    "        return obs_density/prior_density\n",
    "\n",
    "    # Generating the r values for all the points in the prior sample\n",
    "    Lamda_values = []\n",
    "    for i in tqdm(range(len(Prior_Samples))):\n",
    "        lamda = Prior_Samples[i]\n",
    "        r_value = r_ratio(lamda)\n",
    "        Lamda_values.append(r_value)\n",
    "\n",
    "    Lamda_values = np.array(Lamda_values)  \n",
    "\n",
    "    M = max(Lamda_values)\n",
    "#     N_accepted = []\n",
    "    Index = []\n",
    "    for p in range(len(Lamda_values)):\n",
    "        r_p = Lamda_values[p]\n",
    "        xi_p = np.random.uniform()\n",
    "        eta_p = r_p/M\n",
    "        if eta_p > xi_p:\n",
    "            N_accepted.append(Prior_Samples[p])\n",
    "            Index.append(p)\n",
    "    ntemp =  int(len(N_accepted)*0.66)\n",
    "    mean_= np.mean(np.array(N_accepted[ntemp:]),axis=0)\n",
    "    std_ = np.std(np.array(N_accepted[ntemp:]),axis=0)\n",
    "            \n",
    "N_accepted = np.array(N_accepted)\n",
    "Index = np.array(Index)\n",
    "Index[:].shape    "
   ]
  },
  {
   "cell_type": "code",
   "execution_count": null,
   "id": "70d10dd9",
   "metadata": {},
   "outputs": [],
   "source": [
    "np.mean(np.array(N_accepted[10:]),axis=0)"
   ]
  },
  {
   "cell_type": "code",
   "execution_count": null,
   "id": "6db60e5b",
   "metadata": {},
   "outputs": [],
   "source": [
    "np.mean(featuring_params,0)"
   ]
  },
  {
   "cell_type": "code",
   "execution_count": null,
   "id": "0ad34e79",
   "metadata": {},
   "outputs": [],
   "source": [
    "import scipy\n",
    "scipy.stats.mode(np.array(N_accepted[:]).round(2),axis=0).mode"
   ]
  },
  {
   "cell_type": "code",
   "execution_count": null,
   "id": "372d5e9a",
   "metadata": {},
   "outputs": [],
   "source": [
    "N_accepted = np.array(N_accepted)\n",
    "labels = ['alpha', 'beta', 'delta', 'gamma']\n",
    "y_label = ['u','uv','v','uv']\n",
    "plot_matrix_distribution(N_accepted[:], labels, y_label)"
   ]
  },
  {
   "cell_type": "code",
   "execution_count": null,
   "id": "dd8e30a6",
   "metadata": {},
   "outputs": [],
   "source": [
    "# Pushforward of the posterior\n",
    "Push_forward_of_Posterior = []\n",
    "NA = N_accepted[100:]\n",
    "for i in tqdm(range(len(NA))):\n",
    "    Push_forward_of_Posterior.append(Q(NA[i]))\n",
    "Push_forward_of_Posterior = np.array(Push_forward_of_Posterior)    "
   ]
  },
  {
   "cell_type": "code",
   "execution_count": null,
   "id": "802602a1",
   "metadata": {},
   "outputs": [],
   "source": [
    "plot_multivariate_normal(N_accepted[100:,:2], 'Alpha', 'Beta', 'Recovered')\n",
    "plot_multivariate_normal(featuring_params[:,:2], 'Alpha', 'Beta', 'True')\n",
    "plot_multivariate_normal(N_accepted[100:,2:], 'Gamma', 'Delta', 'Recovered')\n",
    "plot_multivariate_normal(featuring_params[:,2:], 'Gamma', 'Delta', 'True')\n",
    "\n",
    "\n",
    "plot_multivariate_normal(N_accepted[100:,[0,2]], 'Alpha', 'Gamma', 'Recovered')\n",
    "plot_multivariate_normal(featuring_params[:,[0,2]], 'Alpha', 'Gamma', 'True')\n",
    "plot_multivariate_normal(N_accepted[100:,[0,3]], 'Alpha', 'Delta', 'Recovered')\n",
    "plot_multivariate_normal(featuring_params[:,[0,3]], 'Alpha', 'Delta', 'True')"
   ]
  },
  {
   "cell_type": "code",
   "execution_count": null,
   "id": "4c5cb630",
   "metadata": {},
   "outputs": [],
   "source": [
    "n=N_accepted.shape[0]\n",
    "for i in range(4):\n",
    "    labels = ['Prior', 'Posterior', 'True']\n",
    "    pr_vals = Prior_Samples[:n,i] \n",
    "    ac_vals = N_accepted[100:n,i]\n",
    "    tr_vals = featuring_params[:n,i]\n",
    "    \n",
    "    mu_pr,std_pr = np.mean(pr_vals),np.std(pr_vals)\n",
    "    mu_ac,std_ac = np.mean(ac_vals),np.std(ac_vals)\n",
    "    mu_tr,std_tr = np.mean(tr_vals),np.std(tr_vals)\n",
    "    mu_gen = np.array([mu_pr,mu_ac,mu_tr])\n",
    "    std_gen = np.array([std_pr,std_ac,std_tr])\n",
    "    plot_normal(mu = mu_gen, sigma=std_gen, label = labels , title ='Normal Distribution')\n",
    "    "
   ]
  },
  {
   "cell_type": "code",
   "execution_count": null,
   "id": "ec2f3cca",
   "metadata": {},
   "outputs": [],
   "source": [
    "for k in range(10,200,10):\n",
    "    post_prior = extract_column_k([Push_forward_of_Posterior, KDE_Dataset[:len(Push_forward_of_Posterior)]], k=k)\n",
    "    plot_normal(np.mean(post_prior, axis=0),np.std(post_prior, axis=0), ['Posterior','Observed'], f'{k}th instance distribution')\n",
    "# plot_multivariate_normal(post_prior, 'Alpha', 'Beta', 'Recovered')"
   ]
  },
  {
   "cell_type": "code",
   "execution_count": null,
   "id": "9f378f7c",
   "metadata": {},
   "outputs": [],
   "source": [
    "plt.plot(Prior_Samples[:,0],Prior_Samples[:,1],'r.', label='Prior')\n",
    "plt.plot(featuring_params[:,0],featuring_params[:,1],'g.',label='True')\n",
    "plt.plot(N_accepted[50:,0],N_accepted[50:,1],'b.',label='Posterior')\n",
    "plt.legend()\n",
    "plt.show()\n",
    "\n",
    "\n",
    "plt.plot(Prior_Samples[:,2],Prior_Samples[:,3],'r.', label='Prior')\n",
    "plt.plot(N_accepted[50:,2],N_accepted[50:,3],'b.',label='Posterior')\n",
    "plt.plot(featuring_params[:,2],featuring_params[:,3],'g.',label='True')\n",
    "\n",
    "plt.legend()\n",
    "plt.show()"
   ]
  },
  {
   "cell_type": "code",
   "execution_count": null,
   "id": "91f58575",
   "metadata": {},
   "outputs": [],
   "source": []
  },
  {
   "cell_type": "code",
   "execution_count": null,
   "id": "be0b07e4",
   "metadata": {},
   "outputs": [],
   "source": []
  },
  {
   "cell_type": "code",
   "execution_count": null,
   "id": "561de898",
   "metadata": {},
   "outputs": [],
   "source": []
  },
  {
   "cell_type": "code",
   "execution_count": null,
   "id": "6f332ab0",
   "metadata": {},
   "outputs": [],
   "source": []
  },
  {
   "cell_type": "code",
   "execution_count": null,
   "id": "c466283d",
   "metadata": {},
   "outputs": [],
   "source": []
  },
  {
   "cell_type": "code",
   "execution_count": null,
   "id": "acc1980a",
   "metadata": {},
   "outputs": [],
   "source": []
  },
  {
   "cell_type": "code",
   "execution_count": null,
   "id": "a5017269",
   "metadata": {},
   "outputs": [],
   "source": []
  },
  {
   "cell_type": "code",
   "execution_count": null,
   "id": "5de0f1d4",
   "metadata": {},
   "outputs": [],
   "source": []
  },
  {
   "cell_type": "code",
   "execution_count": null,
   "id": "9b9debba",
   "metadata": {},
   "outputs": [],
   "source": []
  },
  {
   "cell_type": "code",
   "execution_count": null,
   "id": "9a80726b",
   "metadata": {},
   "outputs": [],
   "source": []
  },
  {
   "cell_type": "code",
   "execution_count": null,
   "id": "c1edfd3b",
   "metadata": {},
   "outputs": [],
   "source": []
  },
  {
   "cell_type": "code",
   "execution_count": null,
   "id": "69a8f139",
   "metadata": {},
   "outputs": [],
   "source": []
  },
  {
   "cell_type": "code",
   "execution_count": null,
   "id": "87e5e9e3",
   "metadata": {},
   "outputs": [],
   "source": []
  },
  {
   "cell_type": "code",
   "execution_count": null,
   "id": "1b4b7e3d",
   "metadata": {},
   "outputs": [],
   "source": []
  },
  {
   "cell_type": "code",
   "execution_count": null,
   "id": "5ed772fe",
   "metadata": {},
   "outputs": [],
   "source": []
  },
  {
   "cell_type": "code",
   "execution_count": null,
   "id": "ab7340b6",
   "metadata": {},
   "outputs": [],
   "source": []
  },
  {
   "cell_type": "code",
   "execution_count": null,
   "id": "f3ae67a7",
   "metadata": {},
   "outputs": [],
   "source": []
  },
  {
   "cell_type": "code",
   "execution_count": null,
   "id": "79a71f42",
   "metadata": {},
   "outputs": [],
   "source": []
  },
  {
   "cell_type": "code",
   "execution_count": null,
   "id": "eb536752",
   "metadata": {},
   "outputs": [],
   "source": []
  },
  {
   "cell_type": "code",
   "execution_count": null,
   "id": "0920da53",
   "metadata": {},
   "outputs": [],
   "source": []
  },
  {
   "cell_type": "code",
   "execution_count": null,
   "id": "8613a72c",
   "metadata": {},
   "outputs": [],
   "source": []
  },
  {
   "cell_type": "code",
   "execution_count": null,
   "id": "de09190f",
   "metadata": {},
   "outputs": [],
   "source": []
  },
  {
   "cell_type": "code",
   "execution_count": null,
   "id": "17d73f42",
   "metadata": {},
   "outputs": [],
   "source": []
  },
  {
   "cell_type": "markdown",
   "id": "35dfc02e",
   "metadata": {},
   "source": [
    "### KL Divergence between the data distribution and the pushforward of the posterior "
   ]
  },
  {
   "cell_type": "code",
   "execution_count": null,
   "id": "33aacf4b",
   "metadata": {},
   "outputs": [],
   "source": [
    "from scipy.special import kl_div\n",
    "post_dist = posterior_kde(X=Push_forward_of_Prior)\n",
    "data_dist = kde_obs(X=Push_forward_of_Prior)\n",
    "# data_dist,post_dist\n",
    "kl_divergence = kl_div(data_dist,post_dist).sum()\n",
    "kl_divergence"
   ]
  }
 ],
 "metadata": {
  "kernelspec": {
   "display_name": "Python 3 (ipykernel)",
   "language": "python",
   "name": "python3"
  },
  "language_info": {
   "codemirror_mode": {
    "name": "ipython",
    "version": 3
   },
   "file_extension": ".py",
   "mimetype": "text/x-python",
   "name": "python",
   "nbconvert_exporter": "python",
   "pygments_lexer": "ipython3",
   "version": "3.11.8"
  }
 },
 "nbformat": 4,
 "nbformat_minor": 5
}
