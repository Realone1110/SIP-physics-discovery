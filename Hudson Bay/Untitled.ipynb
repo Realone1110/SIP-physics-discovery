{
 "cells": [
  {
   "cell_type": "code",
   "execution_count": 12,
   "id": "d0d8f5b1-483e-45c4-97ea-95f799caeaaf",
   "metadata": {},
   "outputs": [
    {
     "data": {
      "image/png": "[encoded data removed]",
      "text/plain": [
       "<Figure size 1000x400 with 1 Axes>"
      ]
     },
     "metadata": {},
     "output_type": "display_data"
    }
   ],
   "source": [
    "import matplotlib.pyplot as plt\n",
    "import numpy as np\n",
    "\n",
    "# Define beam dimensions\n",
    "beam_length = 180\n",
    "beam_height = 60\n",
    "\n",
    "# Create a plot\n",
    "fig, ax = plt.subplots(figsize=(10, 4))\n",
    "ax.set_xlim(0, beam_length)\n",
    "ax.set_ylim(0, beam_height + 10)  # Add some space above the beam for the arrow\n",
    "\n",
    "# Draw the beam rectangle\n",
    "beam_rect = plt.Rectangle((0, 0), beam_length, beam_height, linewidth=2, edgecolor='black', facecolor='lightgrey')\n",
    "ax.add_patch(beam_rect)\n",
    "\n",
    "# Define center point for load application\n",
    "load_x = beam_length / 2\n",
    "load_y = beam_height\n",
    "\n",
    "# Plot the downward load arrow, starting slightly above the beam\n",
    "arrow_length = 10  # Length of the arrow\n",
    "ax.arrow(load_x, load_y + arrow_length, 0, -arrow_length, head_width=5, head_length=5, fc='red', ec='red')\n",
    "\n",
    "# Add text labels\n",
    "ax.text(load_x, load_y + arrow_length + 5, 'Load', ha='center', color='red')\n",
    "ax.text(beam_length / 2, -5, 'MBB Beam', ha='center', fontsize=12, fontweight='bold')\n",
    "\n",
    "# Mark the fixed boundaries (assuming both ends are supported)\n",
    "support_height = 5  # Height of the support triangles\n",
    "support_width = 10  # Width of the support triangles\n",
    "\n",
    "# Left support\n",
    "left_support_x = 0\n",
    "left_support_y = 0\n",
    "ax.plot([left_support_x, left_support_x + support_width / 2, left_support_x - support_width / 2, left_support_x],\n",
    "        [left_support_y, left_support_y - support_height, left_support_y - support_height, left_support_y],\n",
    "        'k', linewidth=1.5)\n",
    "\n",
    "# Right support\n",
    "right_support_x = beam_length\n",
    "right_support_y = 0\n",
    "ax.plot([right_support_x, right_support_x + support_width / 2, right_support_x - support_width / 2, right_support_x],\n",
    "        [right_support_y, right_support_y - support_height, right_support_y - support_height, right_support_y],\n",
    "        'k', linewidth=1.5)\n",
    "\n",
    "# Adjust plot\n",
    "ax.set_aspect('equal')\n",
    "ax.axis('off')  # Turn off axis\n",
    "# plt.title(\"MBB Beam in Topology Optimization with Center Load\")\n",
    "\n",
    "plt.show()\n"
   ]
  },
  {
   "cell_type": "code",
   "execution_count": null,
   "id": "4fa2467a-5675-4bc9-b732-3ff5bf371765",
   "metadata": {},
   "outputs": [],
   "source": []
  },
  {
   "cell_type": "code",
   "execution_count": 2,
   "id": "c19151d0-fc08-4e1d-8568-2f72c1216ef3",
   "metadata": {},
   "outputs": [
    {
     "name": "stdout",
     "output_type": "stream",
     "text": [
      "Matrix([[x**3/3, -cos(x)], [exp(x), x**2/2]])\n",
      "Matrix([[2*x, cos(x)], [exp(x), 1]])\n"
     ]
    }
   ],
   "source": [
    "import sympy as sp\n",
    "x = sp.symbols('x')\n",
    "A = sp.Matrix([[x**2, sp.sin(x)], [sp.exp(x), x]])\n",
    "integrated_matrix = A.applyfunc(lambda elem: sp.integrate(elem, x))\n",
    "print(integrated_matrix)\n",
    "\n",
    "differentiated_matrix = A.applyfunc(lambda elem: sp.diff(elem, x))\n",
    "print(differentiated_matrix)"
   ]
  },
  {
   "cell_type": "code",
   "execution_count": 3,
   "id": "2422cb39-c987-410c-943e-6d49bb3d3dc3",
   "metadata": {},
   "outputs": [
    {
     "name": "stdout",
     "output_type": "stream",
     "text": [
      "Differentiated Matrix at x=2:\n",
      "Matrix([[4, cos(2)], [exp(2), 1]])\n",
      "Differentiated Matrix at x=1:\n",
      "Matrix([[2, cos(1)], [E, 1]])\n",
      "Differentiated Matrix at x=2:\n",
      "Matrix([[4, cos(2)], [exp(2), 1]])\n",
      "Differentiated Matrix at x=3:\n",
      "Matrix([[6, cos(3)], [exp(3), 1]])\n"
     ]
    }
   ],
   "source": [
    "import sympy as sp\n",
    "\n",
    "# Define the symbolic variable and matrix\n",
    "x = sp.symbols('x')\n",
    "A = sp.Matrix([[x**2, sp.sin(x)], [sp.exp(x), x]])\n",
    "\n",
    "# Differentiate the matrix\n",
    "differentiated_matrix = A.applyfunc(lambda elem: sp.diff(elem, x))\n",
    "\n",
    "# Evaluate at x = 2\n",
    "evaluated_matrix = differentiated_matrix.subs(x, 2)\n",
    "print(\"Differentiated Matrix at x=2:\")\n",
    "print(evaluated_matrix)\n",
    "\n",
    "# If you want to evaluate at multiple points (e.g., x = 1, 2, 3):\n",
    "values = [1, 2, 3]\n",
    "for val in values:\n",
    "    print(f\"Differentiated Matrix at x={val}:\")\n",
    "    print(differentiated_matrix.subs(x, val))\n"
   ]
  },
  {
   "cell_type": "code",
   "execution_count": 4,
   "id": "973894aa-e75c-4ba6-9ea9-c68c293a655f",
   "metadata": {},
   "outputs": [
    {
     "name": "stdout",
     "output_type": "stream",
     "text": [
      "Integrated Matrix at x=2:\n",
      "Matrix([[8/3, -cos(2)], [exp(2), 2]])\n"
     ]
    }
   ],
   "source": [
    "# Integrate the matrix\n",
    "integrated_matrix = A.applyfunc(lambda elem: sp.integrate(elem, x))\n",
    "\n",
    "# Evaluate the integrated matrix at x = 2\n",
    "evaluated_integrated_matrix = integrated_matrix.subs(x, 2)\n",
    "print(\"Integrated Matrix at x=2:\")\n",
    "print(evaluated_integrated_matrix)\n"
   ]
  },
  {
   "cell_type": "code",
   "execution_count": 10,
   "id": "d2689243-d99a-49de-ba24-f47fb8977910",
   "metadata": {},
   "outputs": [
    {
     "data": {
      "text/plain": [
       "(array([[ 4.        , -0.41614684],\n",
       "        [ 7.3890561 ,  1.        ]]),\n",
       " array([[2.66666667, 0.41614684],\n",
       "        [7.3890561 , 2.        ]]))"
      ]
     },
     "execution_count": 10,
     "metadata": {},
     "output_type": "execute_result"
    }
   ],
   "source": [
    "np.array(evaluated_matrix.evalf(), dtype=float), np.array(evaluated_integrated_matrix.evalf(), dtype = float)"
   ]
  },
  {
   "cell_type": "code",
   "execution_count": 6,
   "id": "1555e9c5-9406-45aa-8242-27b0c75a02db",
   "metadata": {},
   "outputs": [
    {
     "name": "stdout",
     "output_type": "stream",
     "text": [
      "Evaluated Matrix as a NumPy Array:\n",
      "[[ 4.         -0.41614684]\n",
      " [ 7.3890561   1.        ]]\n"
     ]
    }
   ],
   "source": [
    "import sympy as sp\n",
    "import numpy as np\n",
    "\n",
    "# Define the symbolic variable and matrix\n",
    "x = sp.symbols('x')\n",
    "A = sp.Matrix([[x**2, sp.sin(x)], [sp.exp(x), x]])\n",
    "\n",
    "# Differentiate the matrix\n",
    "differentiated_matrix = A.applyfunc(lambda elem: sp.diff(elem, x))\n",
    "\n",
    "# Evaluate at x = 2\n",
    "evaluated_matrix = differentiated_matrix.subs(x, 2)\n",
    "\n",
    "# Convert the evaluated matrix to a NumPy array\n",
    "numpy_array = np.array(evaluated_matrix.tolist(), dtype=float)\n",
    "\n",
    "print(\"Evaluated Matrix as a NumPy Array:\")\n",
    "print(numpy_array)\n"
   ]
  },
  {
   "cell_type": "code",
   "execution_count": 7,
   "id": "ac6ff609-fa0b-43b3-ac03-eb7949fba26a",
   "metadata": {},
   "outputs": [
    {
     "data": {
      "text/latex": [
       "$\\displaystyle \\left[\\begin{matrix}4 & \\cos{\\left(2 \\right)}\\\\e^{2} & 1\\end{matrix}\\right]$"
      ],
      "text/plain": [
       "Matrix([\n",
       "[     4, cos(2)],\n",
       "[exp(2),      1]])"
      ]
     },
     "execution_count": 7,
     "metadata": {},
     "output_type": "execute_result"
    }
   ],
   "source": [
    "evaluated_matrix"
   ]
  }
 ],
 "metadata": {
  "kernelspec": {
   "display_name": "Python (sunode_env)",
   "language": "python",
   "name": "sunode_env"
  },
  "language_info": {
   "codemirror_mode": {
    "name": "ipython",
    "version": 3
   },
   "file_extension": ".py",
   "mimetype": "text/x-python",
   "name": "python",
   "nbconvert_exporter": "python",
   "pygments_lexer": "ipython3",
   "version": "3.11.8"
  }
 },
 "nbformat": 4,
 "nbformat_minor": 5
}
